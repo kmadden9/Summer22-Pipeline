{
  "nbformat": 4,
  "nbformat_minor": 0,
  "metadata": {
    "colab": {
      "name": "Date_Range_Functions.ipynb",
      "provenance": [],
      "collapsed_sections": [],
      "authorship_tag": "ABX9TyMmAbzJGc/p40jML0lbcaVA",
      "include_colab_link": true
    },
    "kernelspec": {
      "name": "python3",
      "display_name": "Python 3"
    },
    "language_info": {
      "name": "python"
    }
  },
  "cells": [
    {
      "cell_type": "markdown",
      "metadata": {
        "id": "view-in-github",
        "colab_type": "text"
      },
      "source": [
        "<a href=\"https://colab.research.google.com/github/kmadden9/Summer22-Pipeline/blob/main/Armin/Date_Range_Functions.ipynb\" target=\"_parent\"><img src=\"https://colab.research.google.com/assets/colab-badge.svg\" alt=\"Open In Colab\"/></a>"
      ]
    },
    {
      "cell_type": "code",
      "execution_count": 22,
      "metadata": {
        "id": "TPs73FLoJKFg"
      },
      "outputs": [],
      "source": [
        "# Importing dependencies\n",
        "from datetime import datetime, timedelta\n",
        "import pytz\n",
        "  \n",
        "#defining the timezone\n",
        "timezone = pytz.timezone('America/New_York')\n",
        "#use 'print(pytz.all_timezones)' for all timezones in the library"
      ]
    },
    {
      "cell_type": "code",
      "source": [
        "def date_range_hrs(hours):\n",
        "  #define current time based on timezone\n",
        "  currentTime = datetime.now(tz = timezone)\n",
        "\n",
        "  #printing current time\n",
        "  print(\"Current Time: \", str(currentTime))\n",
        "\n",
        "  #Calculating past time\n",
        "  pastTime = currentTime - timedelta(hours = hours)\n",
        "\n",
        "  #printing past time\n",
        "  print('Starting Time: ', str(pastTime))"
      ],
      "metadata": {
        "id": "zm7d-8MqJuea"
      },
      "execution_count": 23,
      "outputs": []
    },
    {
      "cell_type": "code",
      "source": [
        "date_range_hrs(27)"
      ],
      "metadata": {
        "colab": {
          "base_uri": "https://localhost:8080/"
        },
        "id": "5Fcb-LrNSVLe",
        "outputId": "6e1f40bd-6b29-452f-f776-b3d793987107"
      },
      "execution_count": 24,
      "outputs": [
        {
          "output_type": "stream",
          "name": "stdout",
          "text": [
            "Current Time:  2022-06-08 22:28:49.281863-04:00\n",
            "Starting Time:  2022-06-07 19:28:49.281863-04:00\n"
          ]
        }
      ]
    },
    {
      "cell_type": "code",
      "source": [
        "def date_range_days(days, hours):\n",
        "  #define current time based on timezone\n",
        "  currentTime = datetime.now(tz = timezone)\n",
        "\n",
        "  #printing current time\n",
        "  print(\"Current Time: \", str(currentTime))\n",
        "\n",
        "  #Calculating past time\n",
        "  dayHours = days * 24\n",
        "\n",
        "  #All time converted to hours\n",
        "  hoursElapsed = hours + dayHours\n",
        "  pastTime = currentTime - timedelta(hours = hoursElapsed)\n",
        "\n",
        "  #printing past time\n",
        "  print('Starting Time: ', str(pastTime))"
      ],
      "metadata": {
        "id": "8n3dfcSKJab9"
      },
      "execution_count": 25,
      "outputs": []
    },
    {
      "cell_type": "code",
      "source": [
        "date_range_days(2, 9)"
      ],
      "metadata": {
        "colab": {
          "base_uri": "https://localhost:8080/"
        },
        "id": "els4escWSyVR",
        "outputId": "ece4043a-96bf-498d-bd0f-25a249bebc12"
      },
      "execution_count": 26,
      "outputs": [
        {
          "output_type": "stream",
          "name": "stdout",
          "text": [
            "Current Time:  2022-06-08 22:29:27.754276-04:00\n",
            "Starting Time:  2022-06-06 13:29:27.754276-04:00\n"
          ]
        }
      ]
    },
    {
      "cell_type": "code",
      "source": [
        "def date_range_weeks(weeks, days, hours):\n",
        "  #define current time based on timezone\n",
        "  currentTime = datetime.now(tz = timezone)\n",
        "\n",
        "  #printing current time\n",
        "  print(\"Current Time: \", str(currentTime))\n",
        "\n",
        "  #Calculating past time\n",
        "  weekDays = weeks * 7\n",
        "  daysElapsed = weekDays + days\n",
        "  dayHours = daysElapsed * 24\n",
        "\n",
        "  #All time converted to hours\n",
        "  hoursElapsed = hours + dayHours\n",
        "  pastTime = currentTime - timedelta(hours = hoursElapsed)\n",
        "\n",
        "  #printing past time\n",
        "  print('Starting Time: ', str(pastTime))"
      ],
      "metadata": {
        "id": "Bs5YvdrcKgmw"
      },
      "execution_count": 27,
      "outputs": []
    },
    {
      "cell_type": "code",
      "source": [
        "date_range_weeks(3, 6, 0)"
      ],
      "metadata": {
        "colab": {
          "base_uri": "https://localhost:8080/"
        },
        "id": "m57yma3hLGto",
        "outputId": "55549b78-6b41-485d-e849-1ef1217372fd"
      },
      "execution_count": 28,
      "outputs": [
        {
          "output_type": "stream",
          "name": "stdout",
          "text": [
            "Current Time:  2022-06-08 22:29:54.642211-04:00\n",
            "Starting Time:  2022-05-12 22:29:54.642211-04:00\n"
          ]
        }
      ]
    },
    {
      "cell_type": "code",
      "source": [
        ""
      ],
      "metadata": {
        "id": "nKAUSgbFLNZZ"
      },
      "execution_count": 13,
      "outputs": []
    },
    {
      "cell_type": "code",
      "source": [
        ""
      ],
      "metadata": {
        "colab": {
          "base_uri": "https://localhost:8080/"
        },
        "id": "ZibMCupmNghU",
        "outputId": "b64d1888-3f95-496a-bfd4-6e37ba05065f"
      },
      "execution_count": 14,
      "outputs": [
        {
          "output_type": "stream",
          "name": "stdout",
          "text": [
            "Current Time:  2022-06-08 22:06:06.702331-04:00\n",
            "Starting Time:  2022-06-06 22:06:06.702331-04:00\n"
          ]
        }
      ]
    },
    {
      "cell_type": "code",
      "source": [
        ""
      ],
      "metadata": {
        "colab": {
          "base_uri": "https://localhost:8080/"
        },
        "id": "2Fdkqw9yNjZM",
        "outputId": "54af3b26-255d-484f-8885-e086a79e4938"
      },
      "execution_count": 15,
      "outputs": [
        {
          "output_type": "stream",
          "name": "stdout",
          "text": [
            "Current Time:  2022-06-08 22:07:18.835942-04:00\n",
            "Starting Time:  2022-06-06 04:07:18.835942-04:00\n"
          ]
        }
      ]
    },
    {
      "cell_type": "code",
      "source": [
        ""
      ],
      "metadata": {
        "id": "Dl3c2H15N0_0"
      },
      "execution_count": null,
      "outputs": []
    }
  ]
}